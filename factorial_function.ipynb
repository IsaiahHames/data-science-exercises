{
 "cells": [
  {
   "cell_type": "markdown",
   "id": "7a1b67a7-2a86-4542-bfe7-b63794015db4",
   "metadata": {},
   "source": [
    "# Introduction to Jupyter Notebooks and GitHub\n",
    "## Familiarize students with Jupyter Notebooks by:\n",
    "* Writing simple Python code\n",
    "* Documenting with Markdown\n",
    "* Uploading notebook to GitHub"
   ]
  },
  {
   "cell_type": "code",
   "execution_count": null,
   "id": "93f0643f-9ed5-4e66-82e6-e1611177205a",
   "metadata": {},
   "outputs": [],
   "source": [
    "def factorial(n):\n",
    "    if n == 0:\n",
    "        return 1\n",
    "    else:\n",
    "        return n * factorial(n-1)"
   ]
  },
  {
   "cell_type": "code",
   "execution_count": 6,
   "id": "01af4bd6-44f5-474d-90f2-8423f663241f",
   "metadata": {},
   "outputs": [
    {
     "data": {
      "text/plain": [
       "120"
      ]
     },
     "execution_count": 6,
     "metadata": {},
     "output_type": "execute_result"
    }
   ],
   "source": [
    "factorial(5)"
   ]
  },
  {
   "cell_type": "markdown",
   "id": "913a825e-06d7-4d47-ac32-c60520b0c954",
   "metadata": {},
   "source": [
    "## Recursive Factorial Function\n",
    "Using recursion we can intake a number and return its factorial\n",
    "\n",
    "### Steps:\n",
    "* Call the function using a variable \"n\"\n",
    "* Check if n is equal to 0\n",
    "* if true we return 1\n",
    "* else we return n multiplied by the result of the factorial function using n-1\n",
    "\n",
    "## Logic\n",
    "Factorials are the product of all numbers from 0 - n.\n",
    "The function will check the value of n and while n is not equal to 0 it will keep calling the function, storing it into memory. Once it reaches its base case of 0 it will the start at the base case and mulitple n by the product of n-1 factorial and move up the chain until it reaches the original function all and return that value."
   ]
  }
 ],
 "metadata": {
  "kernelspec": {
   "display_name": "Python [conda env:base] *",
   "language": "python",
   "name": "conda-base-py"
  },
  "language_info": {
   "codemirror_mode": {
    "name": "ipython",
    "version": 3
   },
   "file_extension": ".py",
   "mimetype": "text/x-python",
   "name": "python",
   "nbconvert_exporter": "python",
   "pygments_lexer": "ipython3",
   "version": "3.13.5"
  }
 },
 "nbformat": 4,
 "nbformat_minor": 5
}
