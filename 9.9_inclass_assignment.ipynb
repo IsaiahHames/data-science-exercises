{
 "cells": [
  {
   "cell_type": "code",
   "execution_count": 3,
   "id": "9e22b8ae-9d75-4628-af2b-53a31155b023",
   "metadata": {},
   "outputs": [],
   "source": [
    "import numpy as np\n",
    "matrix1 = np.random.randint(1,101, size=(4,4))"
   ]
  },
  {
   "cell_type": "code",
   "execution_count": 4,
   "id": "32531eaa-44ef-485b-a05b-b7b4019fc4a8",
   "metadata": {},
   "outputs": [
    {
     "name": "stdout",
     "output_type": "stream",
     "text": [
      "[[49 19 36 99]\n",
      " [73 53 93 46]\n",
      " [13 58 18 76]\n",
      " [61 90 91 70]]\n"
     ]
    }
   ],
   "source": [
    "print(matrix1)"
   ]
  },
  {
   "cell_type": "code",
   "execution_count": 5,
   "id": "76eba078-bdc6-4d90-8463-9f820d6e074b",
   "metadata": {},
   "outputs": [
    {
     "data": {
      "text/plain": [
       "np.int64(945)"
      ]
     },
     "execution_count": 5,
     "metadata": {},
     "output_type": "execute_result"
    }
   ],
   "source": [
    "np.sum(matrix1)"
   ]
  },
  {
   "cell_type": "code",
   "execution_count": 7,
   "id": "de691476-69cb-4a4d-b742-9ad53afa9633",
   "metadata": {},
   "outputs": [
    {
     "data": {
      "text/plain": [
       "np.int64(13)"
      ]
     },
     "execution_count": 7,
     "metadata": {},
     "output_type": "execute_result"
    }
   ],
   "source": [
    "np.min(matrix1)"
   ]
  },
  {
   "cell_type": "code",
   "execution_count": 8,
   "id": "f9694f67-609f-4185-9b2b-ecac49de37c7",
   "metadata": {},
   "outputs": [
    {
     "data": {
      "text/plain": [
       "np.int64(99)"
      ]
     },
     "execution_count": 8,
     "metadata": {},
     "output_type": "execute_result"
    }
   ],
   "source": [
    "np.max(matrix1)"
   ]
  },
  {
   "cell_type": "code",
   "execution_count": 9,
   "id": "d130ec33-ea07-4a3c-9541-c32d490d8e0a",
   "metadata": {},
   "outputs": [],
   "source": [
    "matrix1[matrix1%2 == 0] = 0"
   ]
  },
  {
   "cell_type": "code",
   "execution_count": 10,
   "id": "4d8ea91a-f765-41f3-b080-a3248741f6bf",
   "metadata": {},
   "outputs": [
    {
     "name": "stdout",
     "output_type": "stream",
     "text": [
      "[[49 19  0 99]\n",
      " [73 53 93  0]\n",
      " [13  0  0  0]\n",
      " [61  0 91  0]]\n"
     ]
    }
   ],
   "source": [
    "print(matrix1)"
   ]
  },
  {
   "cell_type": "code",
   "execution_count": 11,
   "id": "551ce265-1677-490d-ab1c-85966c811b4b",
   "metadata": {},
   "outputs": [
    {
     "data": {
      "text/plain": [
       "array([167, 219,  13, 152])"
      ]
     },
     "execution_count": 11,
     "metadata": {},
     "output_type": "execute_result"
    }
   ],
   "source": [
    "np.sum(matrix1, axis=1)"
   ]
  },
  {
   "cell_type": "code",
   "execution_count": 13,
   "id": "65fcf401-abca-4a65-b02a-eb44a1998774",
   "metadata": {},
   "outputs": [
    {
     "data": {
      "text/plain": [
       "array([[49, 73, 13, 61],\n",
       "       [19, 53,  0,  0],\n",
       "       [ 0, 93,  0, 91],\n",
       "       [99,  0,  0,  0]])"
      ]
     },
     "execution_count": 13,
     "metadata": {},
     "output_type": "execute_result"
    }
   ],
   "source": [
    "np.transpose(matrix1)"
   ]
  },
  {
   "cell_type": "code",
   "execution_count": null,
   "id": "fd75b488-19ff-494a-9f24-e1b4e6a09717",
   "metadata": {},
   "outputs": [],
   "source": []
  }
 ],
 "metadata": {
  "kernelspec": {
   "display_name": "Python [conda env:base] *",
   "language": "python",
   "name": "conda-base-py"
  },
  "language_info": {
   "codemirror_mode": {
    "name": "ipython",
    "version": 3
   },
   "file_extension": ".py",
   "mimetype": "text/x-python",
   "name": "python",
   "nbconvert_exporter": "python",
   "pygments_lexer": "ipython3",
   "version": "3.13.5"
  }
 },
 "nbformat": 4,
 "nbformat_minor": 5
}
