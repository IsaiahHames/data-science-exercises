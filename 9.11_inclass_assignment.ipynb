{
 "cells": [
  {
   "cell_type": "code",
   "execution_count": 2,
   "id": "9e22b8ae-9d75-4628-af2b-53a31155b023",
   "metadata": {},
   "outputs": [],
   "source": [
    "import numpy as np\n",
    "matrix1 = np.random.randint(1,101, size=(4,4))"
   ]
  },
  {
   "cell_type": "code",
   "execution_count": 3,
   "id": "32531eaa-44ef-485b-a05b-b7b4019fc4a8",
   "metadata": {},
   "outputs": [
    {
     "name": "stdout",
     "output_type": "stream",
     "text": [
      "[[33 35 75 16]\n",
      " [65 85 78 82]\n",
      " [57 87 29 36]\n",
      " [13 53 56 90]]\n"
     ]
    }
   ],
   "source": [
    "print(matrix1)"
   ]
  },
  {
   "cell_type": "code",
   "execution_count": 4,
   "id": "76eba078-bdc6-4d90-8463-9f820d6e074b",
   "metadata": {},
   "outputs": [
    {
     "data": {
      "text/plain": [
       "np.int64(890)"
      ]
     },
     "execution_count": 4,
     "metadata": {},
     "output_type": "execute_result"
    }
   ],
   "source": [
    "np.sum(matrix1)"
   ]
  },
  {
   "cell_type": "code",
   "execution_count": 5,
   "id": "de691476-69cb-4a4d-b742-9ad53afa9633",
   "metadata": {},
   "outputs": [
    {
     "data": {
      "text/plain": [
       "np.int64(13)"
      ]
     },
     "execution_count": 5,
     "metadata": {},
     "output_type": "execute_result"
    }
   ],
   "source": [
    "np.min(matrix1)"
   ]
  },
  {
   "cell_type": "code",
   "execution_count": 6,
   "id": "f9694f67-609f-4185-9b2b-ecac49de37c7",
   "metadata": {},
   "outputs": [
    {
     "data": {
      "text/plain": [
       "np.int64(90)"
      ]
     },
     "execution_count": 6,
     "metadata": {},
     "output_type": "execute_result"
    }
   ],
   "source": [
    "np.max(matrix1)"
   ]
  },
  {
   "cell_type": "code",
   "execution_count": 7,
   "id": "d130ec33-ea07-4a3c-9541-c32d490d8e0a",
   "metadata": {},
   "outputs": [],
   "source": [
    "matrix1[matrix1%2 == 0] = 0"
   ]
  },
  {
   "cell_type": "code",
   "execution_count": 8,
   "id": "4d8ea91a-f765-41f3-b080-a3248741f6bf",
   "metadata": {},
   "outputs": [
    {
     "name": "stdout",
     "output_type": "stream",
     "text": [
      "[[33 35 75  0]\n",
      " [65 85  0  0]\n",
      " [57 87 29  0]\n",
      " [13 53  0  0]]\n"
     ]
    }
   ],
   "source": [
    "print(matrix1)"
   ]
  },
  {
   "cell_type": "code",
   "execution_count": 9,
   "id": "551ce265-1677-490d-ab1c-85966c811b4b",
   "metadata": {},
   "outputs": [
    {
     "data": {
      "text/plain": [
       "array([143, 150, 173,  66])"
      ]
     },
     "execution_count": 9,
     "metadata": {},
     "output_type": "execute_result"
    }
   ],
   "source": [
    "np.sum(matrix1, axis=1)"
   ]
  },
  {
   "cell_type": "code",
   "execution_count": 10,
   "id": "65fcf401-abca-4a65-b02a-eb44a1998774",
   "metadata": {},
   "outputs": [
    {
     "data": {
      "text/plain": [
       "array([[33, 65, 57, 13],\n",
       "       [35, 85, 87, 53],\n",
       "       [75,  0, 29,  0],\n",
       "       [ 0,  0,  0,  0]])"
      ]
     },
     "execution_count": 10,
     "metadata": {},
     "output_type": "execute_result"
    }
   ],
   "source": [
    "np.transpose(matrix1)"
   ]
  },
  {
   "cell_type": "code",
   "execution_count": 43,
   "id": "fd75b488-19ff-494a-9f24-e1b4e6a09717",
   "metadata": {},
   "outputs": [],
   "source": [
    "result = matrix1 + 5"
   ]
  },
  {
   "cell_type": "code",
   "execution_count": 44,
   "id": "c16716df-e551-4ca2-a328-2d4c50c8c3b9",
   "metadata": {},
   "outputs": [
    {
     "name": "stdout",
     "output_type": "stream",
     "text": [
      "[[38 40 80  5]\n",
      " [70 90  5  5]\n",
      " [62 92 34  5]\n",
      " [18 58  5  5]]\n"
     ]
    }
   ],
   "source": [
    "print(result)"
   ]
  },
  {
   "cell_type": "code",
   "execution_count": 53,
   "id": "f4f8abd4-48c2-4310-b4b0-4cf7c08b7c9b",
   "metadata": {},
   "outputs": [],
   "source": [
    "arr1 = np.array([1,2,3,4])\n",
    "sub_matrix = result - arr1"
   ]
  },
  {
   "cell_type": "code",
   "execution_count": 54,
   "id": "b95f98c1-244f-49e5-b57c-58f488217c8f",
   "metadata": {},
   "outputs": [
    {
     "name": "stdout",
     "output_type": "stream",
     "text": [
      "[[37 38 77  1]\n",
      " [69 88  2  1]\n",
      " [61 90 31  1]\n",
      " [17 56  2  1]]\n"
     ]
    }
   ],
   "source": [
    "print(sub_matrix)"
   ]
  },
  {
   "cell_type": "code",
   "execution_count": 55,
   "id": "3a055f07-2d94-4124-9fc0-6a798b63a88a",
   "metadata": {},
   "outputs": [],
   "source": [
    "arr2 = np.array([[1],[2],[3],[4]])\n",
    "mult_matrix = sub_matrix * arr2"
   ]
  },
  {
   "cell_type": "code",
   "execution_count": 56,
   "id": "446bc0cb-2369-4790-b69b-3bdbd88ce3b5",
   "metadata": {},
   "outputs": [
    {
     "name": "stdout",
     "output_type": "stream",
     "text": [
      "[[ 37  38  77   1]\n",
      " [138 176   4   2]\n",
      " [183 270  93   3]\n",
      " [ 68 224   8   4]]\n"
     ]
    }
   ],
   "source": [
    "print(mult_matrix)"
   ]
  },
  {
   "cell_type": "code",
   "execution_count": 57,
   "id": "3505c8de-3e2a-4e27-8811-f3761e9025db",
   "metadata": {},
   "outputs": [],
   "source": [
    "arr3 = np.array([np.mean(mult_matrix[0]), np.mean(mult_matrix[1]), np.mean(mult_matrix[2]), np.mean(mult_matrix[3])])\n",
    "sub_matrix2 = mult_matrix - arr3"
   ]
  },
  {
   "cell_type": "code",
   "execution_count": 58,
   "id": "b70b06a1-197f-49cf-84a9-d936ba3099f8",
   "metadata": {},
   "outputs": [
    {
     "name": "stdout",
     "output_type": "stream",
     "text": [
      "[[  -1.25  -42.    -60.25  -75.  ]\n",
      " [  99.75   96.   -133.25  -74.  ]\n",
      " [ 144.75  190.    -44.25  -73.  ]\n",
      " [  29.75  144.   -129.25  -72.  ]]\n"
     ]
    }
   ],
   "source": [
    "print(sub_matrix2)"
   ]
  },
  {
   "cell_type": "code",
   "execution_count": null,
   "id": "9051241b-c3a5-4497-9847-46d702ac0b08",
   "metadata": {},
   "outputs": [],
   "source": []
  }
 ],
 "metadata": {
  "kernelspec": {
   "display_name": "Python [conda env:base] *",
   "language": "python",
   "name": "conda-base-py"
  },
  "language_info": {
   "codemirror_mode": {
    "name": "ipython",
    "version": 3
   },
   "file_extension": ".py",
   "mimetype": "text/x-python",
   "name": "python",
   "nbconvert_exporter": "python",
   "pygments_lexer": "ipython3",
   "version": "3.13.5"
  }
 },
 "nbformat": 4,
 "nbformat_minor": 5
}
